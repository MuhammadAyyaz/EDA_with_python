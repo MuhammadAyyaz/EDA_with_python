{
 "cells": [
  {
   "cell_type": "code",
   "execution_count": null,
   "metadata": {},
   "outputs": [],
   "source": [
    "high_score1=0\n",
    "player_1 = int(input('enter your score: '))\n",
    "high_score = player_1\n",
    "while True:\n",
    "    player_2= int(input(\"enter your score: \"))\n",
    "    if player_2 >= high_score:\n",
    "        print(\"You beat the high score\")\n",
    "        print(f'high score was {high_score} and new high score is {player_2}')\n",
    "        high_score = player_2\n",
    "        break\n",
    "    else:\n",
    "        print(f'You score {player_2} & high score is {high_score}')   "
   ]
  },
  {
   "cell_type": "code",
   "execution_count": null,
   "metadata": {},
   "outputs": [],
   "source": [
    "import math\n",
    "print(math.sqrt(21))"
   ]
  },
  {
   "cell_type": "code",
   "execution_count": null,
   "metadata": {},
   "outputs": [],
   "source": [
    "import numpy as np\n",
    "print(np.sqrt(9))\n"
   ]
  },
  {
   "cell_type": "code",
   "execution_count": 2,
   "metadata": {},
   "outputs": [
    {
     "name": "stdout",
     "output_type": "stream",
     "text": [
      "<class 'pandas.core.frame.DataFrame'>\n",
      "RangeIndex: 528 entries, 0 to 527\n",
      "Data columns (total 21 columns):\n",
      " #   Column                      Non-Null Count  Dtype  \n",
      "---  ------                      --------------  -----  \n",
      " 0   PROVINCE                    528 non-null    object \n",
      " 1   DIVISION                    528 non-null    object \n",
      " 2   DISTRICT                    528 non-null    object \n",
      " 3   SUB DIVISION                528 non-null    object \n",
      " 4   AREA (sq.km)                528 non-null    float64\n",
      " 5   ALL SEXES (RURAL)           528 non-null    int64  \n",
      " 6   MALE (RURAL)                528 non-null    int64  \n",
      " 7   FEMALE (RURAL)              528 non-null    int64  \n",
      " 8   TRANSGENDER (RURAL)         528 non-null    int64  \n",
      " 9   SEX RATIO (RURAL)           528 non-null    float64\n",
      " 10  AVG HOUSEHOLD SIZE (RURAL)  528 non-null    float64\n",
      " 11  POPULATION 1998 (RURAL)     528 non-null    int64  \n",
      " 12  ANNUAL GROWTH RATE (RURAL)  528 non-null    float64\n",
      " 13  ALL SEXES (URBAN)           528 non-null    int64  \n",
      " 14  MALE (URBAN)                528 non-null    int64  \n",
      " 15  FEMALE (URBAN)              528 non-null    int64  \n",
      " 16  TRANSGENDER (URBAN)         528 non-null    int64  \n",
      " 17  SEX RATIO (URBAN)           528 non-null    float64\n",
      " 18  AVG HOUSEHOLD SIZE (URBAN)  528 non-null    float64\n",
      " 19  POPULATION 1998 (URBAN)     528 non-null    int64  \n",
      " 20  ANNUAL GROWTH RATE (URBAN)  528 non-null    float64\n",
      "dtypes: float64(7), int64(10), object(4)\n",
      "memory usage: 86.8+ KB\n"
     ]
    }
   ],
   "source": [
    "import pandas as pd\n",
    "import seaborn as sns\n",
    "data = pd.read_csv('./sub-division_population_of_pakistan.csv')\n",
    "data.info()\n"
   ]
  },
  {
   "cell_type": "code",
   "execution_count": 1,
   "metadata": {},
   "outputs": [
    {
     "ename": "NameError",
     "evalue": "name 'pd' is not defined",
     "output_type": "error",
     "traceback": [
      "\u001b[1;31m---------------------------------------------------------------------------\u001b[0m",
      "\u001b[1;31mNameError\u001b[0m                                 Traceback (most recent call last)",
      "Cell \u001b[1;32mIn[1], line 2\u001b[0m\n\u001b[0;32m      1\u001b[0m \u001b[38;5;28;01mimport\u001b[39;00m\u001b[38;5;250m \u001b[39m\u001b[38;5;21;01mnumpy\u001b[39;00m\u001b[38;5;250m \u001b[39m\u001b[38;5;28;01mas\u001b[39;00m\u001b[38;5;250m \u001b[39m\u001b[38;5;21;01mnp\u001b[39;00m\n\u001b[1;32m----> 2\u001b[0m marks \u001b[38;5;241m=\u001b[39m \u001b[43mpd\u001b[49m\u001b[38;5;241m.\u001b[39mSeries([\u001b[38;5;241m1\u001b[39m,\u001b[38;5;241m2\u001b[39m,\u001b[38;5;241m3\u001b[39m,\u001b[38;5;241m4\u001b[39m,np\u001b[38;5;241m.\u001b[39mnan,\u001b[38;5;241m5\u001b[39m])\n\u001b[0;32m      3\u001b[0m names \u001b[38;5;241m=\u001b[39m pd\u001b[38;5;241m.\u001b[39mSeries([\u001b[38;5;124m\"\u001b[39m\u001b[38;5;124mAyaz\u001b[39m\u001b[38;5;124m\"\u001b[39m, \u001b[38;5;124m\"\u001b[39m\u001b[38;5;124mFehmida\u001b[39m\u001b[38;5;124m\"\u001b[39m,\u001b[38;5;124m\"\u001b[39m\u001b[38;5;124mOrhan\u001b[39m\u001b[38;5;124m\"\u001b[39m, \u001b[38;5;124m\"\u001b[39m\u001b[38;5;124mHamdan\u001b[39m\u001b[38;5;124m\"\u001b[39m,\u001b[38;5;124m\"\u001b[39m\u001b[38;5;124mUnknown\u001b[39m\u001b[38;5;124m\"\u001b[39m,\u001b[38;5;124m\"\u001b[39m\u001b[38;5;124mAyzal\u001b[39m\u001b[38;5;124m\"\u001b[39m])\n\u001b[0;32m      4\u001b[0m columns\u001b[38;5;241m=\u001b[39m [\u001b[38;5;124m\"\u001b[39m\u001b[38;5;124mName\u001b[39m\u001b[38;5;124m\"\u001b[39m, \u001b[38;5;124m\"\u001b[39m\u001b[38;5;124mMarks\u001b[39m\u001b[38;5;124m\"\u001b[39m]\n",
      "\u001b[1;31mNameError\u001b[0m: name 'pd' is not defined"
     ]
    }
   ],
   "source": [
    "import numpy as np\n",
    "marks = pd.Series([1,2,3,4,np.nan,5])\n",
    "names = pd.Series([\"Ayaz\", \"Fehmida\",\"Orhan\", \"Hamdan\",\"Unknown\",\"Ayzal\"])\n",
    "columns= [\"Name\", \"Marks\"]\n",
    "df = pd.DataFrame({columns[0]:names, columns[1]:marks},columns=columns)\n",
    "df"
   ]
  },
  {
   "cell_type": "code",
   "execution_count": null,
   "metadata": {},
   "outputs": [],
   "source": [
    "df[\"Date\"] = pd.date_range('20250201', periods=6)\n"
   ]
  },
  {
   "cell_type": "code",
   "execution_count": null,
   "metadata": {},
   "outputs": [],
   "source": [
    "df.dropna(inplace=True)\n",
    "df.describe()"
   ]
  },
  {
   "cell_type": "code",
   "execution_count": null,
   "metadata": {},
   "outputs": [],
   "source": [
    "df.at(Name[\"Ayaz\"], \"Marks\") = 10"
   ]
  },
  {
   "cell_type": "code",
   "execution_count": null,
   "metadata": {},
   "outputs": [],
   "source": [
    "df.query('Name.str.startswith(\"O\")',\n",
    "engine=\"python\")"
   ]
  },
  {
   "cell_type": "code",
   "execution_count": null,
   "metadata": {},
   "outputs": [],
   "source": [
    "df.query('Marks > 2 ')"
   ]
  },
  {
   "cell_type": "code",
   "execution_count": null,
   "metadata": {},
   "outputs": [],
   "source": []
  }
 ],
 "metadata": {
  "kernelspec": {
   "display_name": "py_ml_env",
   "language": "python",
   "name": "python3"
  },
  "language_info": {
   "codemirror_mode": {
    "name": "ipython",
    "version": 3
   },
   "file_extension": ".py",
   "mimetype": "text/x-python",
   "name": "python",
   "nbconvert_exporter": "python",
   "pygments_lexer": "ipython3",
   "version": "3.13.2"
  }
 },
 "nbformat": 4,
 "nbformat_minor": 2
}
